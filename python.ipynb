{
 "cells": [
  {
   "cell_type": "code",
   "execution_count": null,
   "metadata": {},
   "outputs": [],
   "source": [
    "coordinates = (3, 4)\n",
    "x, y = coordinates\n",
    "print(\"x:\", x, \"y:\", y)\n",
    "\n",
    "# 13. Sets\n",
    "fruits = {\"apple\", \"banana\", \"orange\"}\n",
    "fruits.add(\"grape\")\n",
    "print(fruits)"
   ]
  }
 ],
 "metadata": {
  "language_info": {
   "name": "python"
  },
  "orig_nbformat": 4
 },
 "nbformat": 4,
 "nbformat_minor": 2
}
