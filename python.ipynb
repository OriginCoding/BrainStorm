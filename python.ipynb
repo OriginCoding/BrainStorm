{
 "cells": [
  {
   "cell_type": "code",
   "execution_count": null,
   "metadata": {},
   "outputs": [],
   "source": [
    "coordinates = (3, 4)\n",
    "x, y = coordinates\n",
    "print(\"x:\", x, \"y:\", y)\n",
    "\n",
    "# 13. Sets\n",
    "fruits = {\"apple\", \"banana\", \"orange\"}\n",
    "fruits.add(\"grape\")\n",
    "print(fruits)"
   ]
  },
  {
   "cell_type": "code",
   "execution_count": null,
   "metadata": {},
   "outputs": [],
   "source": [
    "# 10. Libraries and Modules\n",
    "import math\n",
    "print(math.sqrt(25))\n",
    "\n",
    "# 11. List Comprehensions\n",
    "even_squares = [x**2 for x in numbers if x % 2 == 0]\n",
    "print(even_squares)\n"
   ]
  },
  {
   "cell_type": "code",
   "execution_count": null,
   "metadata": {},
   "outputs": [],
   "source": []
  }
 ],
 "metadata": {
  "language_info": {
   "name": "python"
  },
  "orig_nbformat": 4
 },
 "nbformat": 4,
 "nbformat_minor": 2
}
