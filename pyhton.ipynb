{
 "cells": [
  {
   "cell_type": "code",
   "execution_count": 2,
   "metadata": {},
   "outputs": [
    {
     "name": "stdout",
     "output_type": "stream",
     "text": [
      "You are an adult\n",
      "0\n",
      "1\n",
      "2\n",
      "3\n",
      "4\n",
      "Hello, Alice\n",
      "1\n",
      "2\n",
      "3\n",
      "4\n",
      "5\n",
      "Alice\n",
      "HELLO, WORLD!\n",
      "hello, world!\n",
      "Hi, World!\n",
      "Cannot divide by zero\n",
      "Buddy says Woof!\n",
      "5.0\n",
      "[4, 16]\n"
     ]
    }
   ],
   "source": [
    "# 1. Variables and Data Types\n",
    "name = \"John\"\n",
    "age = 25\n",
    "height = 5.11\n",
    "is_student = True\n",
    "\n",
    "# 2. Control Structures\n",
    "if age >= 18:\n",
    "    print(\"You are an adult\")\n",
    "else:\n",
    "    print(\"You are a minor\")\n",
    "\n",
    "for i in range(5):\n",
    "    print(i)\n",
    "\n",
    "while age < 30:\n",
    "    age += 1\n",
    "\n",
    "# 3. Functions\n",
    "def greet(person):\n",
    "    return \"Hello, \" + person\n",
    "\n",
    "message = greet(\"Alice\")\n",
    "print(message)\n",
    "\n",
    "# 4. Lists and Loops\n",
    "numbers = [1, 2, 3, 4, 5]\n",
    "for num in numbers:\n",
    "    print(num)\n",
    "\n",
    "# 5. Dictionaries\n",
    "person = {\"name\": \"Alice\", \"age\": 30, \"city\": \"New York\"}\n",
    "print(person[\"name\"])\n"
   ]
  },
  {
   "cell_type": "code",
   "execution_count": 3,
   "metadata": {},
   "outputs": [
    {
     "name": "stdout",
     "output_type": "stream",
     "text": [
      "HELLO, WORLD!\n",
      "hello, world!\n",
      "Hi, World!\n",
      "Cannot divide by zero\n",
      "Buddy says Woof!\n",
      "5.0\n",
      "[4, 16]\n"
     ]
    }
   ],
   "source": [
    "\n",
    "# 6. Strings and String Manipulation\n",
    "text = \"Hello, World!\"\n",
    "print(text.upper())\n",
    "print(text.lower())\n",
    "print(text.replace(\"Hello\", \"Hi\"))\n",
    "\n",
    "# 7. Exception Handling\n",
    "try:\n",
    "    result = 10 / 0\n",
    "except ZeroDivisionError:\n",
    "    print(\"Cannot divide by zero\")\n",
    "\n",
    "# 8. Classes and Objects\n",
    "class Dog:\n",
    "    def __init__(self, name):\n",
    "        self.name = name\n",
    "    \n",
    "    def bark(self):\n",
    "        print(self.name + \" says Woof!\")\n",
    "\n",
    "my_dog = Dog(\"Buddy\")\n",
    "my_dog.bark()\n",
    "\n",
    "\n",
    "\n",
    "# 10. Libraries and Modules\n",
    "import math\n",
    "print(math.sqrt(25))\n",
    "\n",
    "# 11. List Comprehensions\n",
    "even_squares = [x**2 for x in numbers if x % 2 == 0]\n",
    "print(even_squares)\n"
   ]
  },
  {
   "cell_type": "code",
   "execution_count": null,
   "metadata": {},
   "outputs": [],
   "source": []
  }
 ],
 "metadata": {
  "kernelspec": {
   "display_name": ".venv",
   "language": "python",
   "name": "python3"
  },
  "language_info": {
   "codemirror_mode": {
    "name": "ipython",
    "version": 3
   },
   "file_extension": ".py",
   "mimetype": "text/x-python",
   "name": "python",
   "nbconvert_exporter": "python",
   "pygments_lexer": "ipython3",
   "version": "3.11.4"
  },
  "orig_nbformat": 4
 },
 "nbformat": 4,
 "nbformat_minor": 2
}
